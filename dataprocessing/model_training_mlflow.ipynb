{
 "cells": [
  {
   "cell_type": "markdown",
   "id": "fd663c81b84d241b",
   "metadata": {},
   "source": [
    "# Model Training with MLflow #"
   ]
  },
  {
   "cell_type": "markdown",
   "id": "fc02f753",
   "metadata": {},
   "source": [
    "Before run the code, start the mlflow server in terminal using script.  \n",
    "\n",
    "mlflow ui --port 8080 --backend-store-uri sqlite:///mlruns.db --default-artifact-root ./mlruns\n",
    "\n",
    "may be use \"mlflow server --host 127.0.0.1 --port 8080\" ?"
   ]
  },
  {
   "cell_type": "code",
   "execution_count": 1,
   "id": "initial_id",
   "metadata": {
    "ExecuteTime": {
     "end_time": "2025-03-21T03:55:31.480345Z",
     "start_time": "2025-03-21T03:55:30.494908Z"
    },
    "collapsed": true
   },
   "outputs": [],
   "source": [
    "import mlflow\n",
    "\n",
    "mlflow.set_tracking_uri(\"http://127.0.0.1:8080\")"
   ]
  },
  {
   "cell_type": "code",
   "execution_count": 2,
   "id": "346c72d1a6b2c65f",
   "metadata": {
    "ExecuteTime": {
     "end_time": "2025-03-21T01:52:24.196529Z",
     "start_time": "2025-03-21T01:52:15.346236Z"
    }
   },
   "outputs": [],
   "source": [
    "from pyspark.sql import SparkSession\n",
    "from pyspark.sql.functions import col\n",
    "from pyspark.ml.feature import VectorAssembler, StandardScaler\n",
    "from pyspark.ml.classification import RandomForestClassifier\n",
    "from pyspark.ml.evaluation import MulticlassClassificationEvaluator, BinaryClassificationEvaluator\n",
    "\n",
    "from mlflow.models.signature import infer_signature\n",
    "\n",
    "spark = SparkSession.builder.appName(\"ModelTrainingMLflow\").getOrCreate()\n",
    "\n",
    "data_path = \"data/safety_dataset_filtered.csv\"\n",
    "df = spark.read.csv(data_path, header=True, inferSchema=True)\n",
    "\n",
    "df = df.drop(\"bookingID\")\n",
    "\n",
    "df = df.withColumn(\"label\", col(\"label\").cast(\"integer\"))\n",
    "\n",
    "feature_cols = [col_name for col_name in df.columns if col_name != \"label\"]\n",
    "\n",
    "assembler = VectorAssembler(inputCols=feature_cols, outputCol=\"features\")\n",
    "df = assembler.transform(df)\n",
    "\n",
    "scaler = StandardScaler(inputCol=\"features\", outputCol=\"scaled_features\", withStd=True, withMean=False)\n",
    "df = scaler.fit(df).transform(df)\n",
    "\n",
    "df = df.select(\"scaled_features\", \"label\")\n",
    "\n",
    "df = df.withColumnRenamed(\"scaled_features\", \"features\")\n",
    "\n",
    "train_df, test_df = df.randomSplit([0.8, 0.2], seed=42)\n",
    "\n",
    "# print(train_df.head(5))\n",
    "\n",
    "rf = RandomForestClassifier(featuresCol=\"features\", labelCol=\"label\", numTrees=50)"
   ]
  },
  {
   "cell_type": "code",
   "execution_count": 3,
   "id": "d2bf51cd5754d893",
   "metadata": {},
   "outputs": [
    {
     "name": "stdout",
     "output_type": "stream",
     "text": [
      "Accuracy: 0.7774\n",
      "Precision: 0.7722\n",
      "Recall: 0.7774\n",
      "F1 Score: 0.7119\n",
      "AUC-ROC: 0.7133\n",
      "-----------------\n",
      "\n"
     ]
    }
   ],
   "source": [
    "# Train the model\n",
    "rf_model = rf.fit(train_df)\n",
    "\n",
    "# Make predictions\n",
    "rf_preds = rf_model.transform(test_df)\n",
    "\n",
    "# Evaluate the model\n",
    "# Accuracy\n",
    "accuracy_evaluator = MulticlassClassificationEvaluator(labelCol=\"label\", predictionCol=\"prediction\", metricName=\"accuracy\")\n",
    "accuracy = accuracy_evaluator.evaluate(rf_preds)\n",
    "print(f\"Accuracy: {accuracy:.4f}\")\n",
    "\n",
    "# Precision\n",
    "precision_evaluator = MulticlassClassificationEvaluator(labelCol=\"label\", predictionCol=\"prediction\", metricName=\"weightedPrecision\")\n",
    "precision = precision_evaluator.evaluate(rf_preds)\n",
    "print(f\"Precision: {precision:.4f}\")\n",
    "\n",
    "# Recall\n",
    "recall_evaluator = MulticlassClassificationEvaluator(labelCol=\"label\", predictionCol=\"prediction\", metricName=\"weightedRecall\")\n",
    "recall = recall_evaluator.evaluate(rf_preds)\n",
    "print(f\"Recall: {recall:.4f}\")\n",
    "\n",
    "# F1-score\n",
    "f1_evaluator = MulticlassClassificationEvaluator(labelCol=\"label\", predictionCol=\"prediction\", metricName=\"f1\")\n",
    "f1_score = f1_evaluator.evaluate(rf_preds)\n",
    "print(f\"F1 Score: {f1_score:.4f}\")\n",
    "\n",
    "# AUC-ROC\n",
    "auc_evaluator = BinaryClassificationEvaluator(labelCol=\"label\", rawPredictionCol=\"rawPrediction\", metricName=\"areaUnderROC\")\n",
    "auc_roc = auc_evaluator.evaluate(rf_preds)\n",
    "print(f\"AUC-ROC: {auc_roc:.4f}\")\n",
    "\n",
    "print(\"-----------------\\n\")"
   ]
  },
  {
   "cell_type": "code",
   "execution_count": 4,
   "id": "8eeb6d49f10554cf",
   "metadata": {
    "ExecuteTime": {
     "end_time": "2025-03-21T01:52:30.480490Z",
     "start_time": "2025-03-21T01:52:24.213629Z"
    }
   },
   "outputs": [
    {
     "name": "stdout",
     "output_type": "stream",
     "text": [
      "Artifact URI: file:C:/Users/vfre/PycharmProjects/BigDataProject/mlruns/0/7a385218478b4001a0d412b5431b24d4/artifacts\n",
      "inputs: \n",
      "  ['features': SparkML vector (required)]\n",
      "outputs: \n",
      "  ['label': integer (required)]\n",
      "params: \n",
      "  None\n",
      "\n",
      "Start logging model ...\n"
     ]
    },
    {
     "name": "stderr",
     "output_type": "stream",
     "text": [
      "c:\\Users\\vfre\\miniconda3\\envs\\bigdata\\Lib\\site-packages\\mlflow\\types\\utils.py:452: UserWarning: Hint: Inferred schema contains integer column(s). Integer columns in Python cannot represent missing values. If your input data contains missing values at inference time, it will be encoded as floats and will cause a schema enforcement error. The best way to avoid this problem is to infer the model schema based on a realistic data sample (training dataset) that includes missing values. Alternatively, you can declare integer columns as doubles (float64) whenever these columns may have missing values. See `Handling Integers With Missing Values <https://www.mlflow.org/docs/latest/models.html#handling-integers-with-missing-values>`_ for more details.\n",
      "  warnings.warn(\n",
      "2025/03/21 16:38:50 WARNING mlflow.utils.environment: Encountered an unexpected error while inferring pip requirements (model URI: C:\\Users\\vfre\\AppData\\Local\\Temp\\tmpswaxzfua\\model, flavor: spark). Fall back to return ['pyspark==3.5.5']. Set logging level to DEBUG to see the full traceback. \n",
      "Registered model 'random-forest-model' already exists. Creating a new version of this model...\n",
      "2025/03/21 16:38:50 INFO mlflow.store.model_registry.abstract_store: Waiting up to 300 seconds for model version to finish creation. Model name: random-forest-model, version 3\n"
     ]
    },
    {
     "name": "stdout",
     "output_type": "stream",
     "text": [
      "Model logged at: runs:/7a385218478b4001a0d412b5431b24d4/random_forest_model\n",
      "🏃 View run traveling-mole-360 at: http://127.0.0.1:8080/#/experiments/0/runs/7a385218478b4001a0d412b5431b24d4\n",
      "🧪 View experiment at: http://127.0.0.1:8080/#/experiments/0\n"
     ]
    },
    {
     "name": "stderr",
     "output_type": "stream",
     "text": [
      "Created version '3' of model 'random-forest-model'.\n"
     ]
    }
   ],
   "source": [
    "import mlflow.spark\n",
    "\n",
    "with mlflow.start_run() as run:\n",
    "    print(f\"Artifact URI: {run.info.artifact_uri}\")\n",
    "\n",
    "    # Log model parameters\n",
    "    mlflow.log_param(\"num_trees\", 50)\n",
    "    mlflow.log_param(\"seed\", 42)\n",
    "    \n",
    "    mlflow.log_metric(\"accuracy\", accuracy)  # Log accuracy as a metric\n",
    "    mlflow.log_metric(\"Precision\", precision)  # Log precision as a metric\n",
    "    mlflow.log_metric(\"Recall\", recall)  # Log recall as a metric\n",
    "    mlflow.log_metric(\"f1_score\", f1_score)  # Log f1_score as a metric\n",
    "    mlflow.log_metric(\"AUC-ROC\", auc_roc)  # Log AUC-ROC as a metric\n",
    "    \n",
    "    signature = infer_signature(train_df.select(\"features\"), train_df.select(\"label\"))\n",
    "    print(signature)\n",
    "    \n",
    "    print(\"Start logging model ...\")\n",
    "\n",
    "    # Log the trained model\n",
    "    model_info = mlflow.spark.log_model(\n",
    "        spark_model=rf_model,\n",
    "        artifact_path=\"random_forest_model\",\n",
    "        signature=signature,\n",
    "        registered_model_name=\"random-forest-model\",\n",
    "    )\n",
    "    \n",
    "    print(f\"Model logged at: {model_info.model_uri}\")\n",
    "    "
   ]
  }
 ],
 "metadata": {
  "kernelspec": {
   "display_name": "bigdata",
   "language": "python",
   "name": "python3"
  },
  "language_info": {
   "codemirror_mode": {
    "name": "ipython",
    "version": 3
   },
   "file_extension": ".py",
   "mimetype": "text/x-python",
   "name": "python",
   "nbconvert_exporter": "python",
   "pygments_lexer": "ipython3",
   "version": "3.13.2"
  }
 },
 "nbformat": 4,
 "nbformat_minor": 5
}
